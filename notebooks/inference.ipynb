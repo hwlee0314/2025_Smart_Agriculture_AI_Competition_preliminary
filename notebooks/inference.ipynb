{
 "cells": [
  {
   "cell_type": "markdown",
   "id": "9f4edebd",
   "metadata": {},
   "source": [
    "# 저장된 모델을 활용한 온실 환경 예측 및 결과 생성\n",
    "이 노트북은 학습된 XGBoost 모델을 불러와 테스트 데이터에 대해 예측을 수행하고, 결과를 sample_submission 형식으로 저장합니다."
   ]
  },
  {
   "cell_type": "code",
   "execution_count": 16,
   "id": "67bd4528",
   "metadata": {},
   "outputs": [],
   "source": [
    "import pandas as pd\n",
    "import numpy as np\n",
    "import joblib"
   ]
  },
  {
   "cell_type": "code",
   "execution_count": 17,
   "id": "11d6ea3a",
   "metadata": {},
   "outputs": [],
   "source": [
    "# 테스트 데이터 및 제출 파일 로드\n",
    "test_X = pd.read_csv('test_X.csv')\n",
    "sample_submission = pd.read_csv('sample_submission.csv')\n",
    "test_X['time'] = pd.to_datetime(test_X['time'])"
   ]
  },
  {
   "cell_type": "code",
   "execution_count": 18,
   "id": "4b29af16",
   "metadata": {},
   "outputs": [],
   "source": [
    "# 피쳐 엔지니어링 함수 정의 (학습과 동일하게 적용)\n",
    "def clean_data(df):\n",
    "    df_clean = df.copy()\n",
    "    numeric_cols = df_clean.select_dtypes(include=[np.number]).columns\n",
    "    for col in numeric_cols:\n",
    "        df_clean[col] = df_clean[col].replace([np.inf, -np.inf], np.nan)\n",
    "        df_clean[col] = df_clean[col].interpolate(method='linear', limit_direction='both')\n",
    "        df_clean[col] = df_clean[col].fillna(0)\n",
    "    return df_clean\n",
    "\n",
    "def create_time_features(df):\n",
    "    df_new = df.copy()\n",
    "    df_new['hour'] = df_new['time'].dt.hour\n",
    "    df_new['day_of_week'] = df_new['time'].dt.dayofweek\n",
    "    df_new['month'] = df_new['time'].dt.month\n",
    "    df_new['is_weekend'] = (df_new['time'].dt.dayofweek >= 5).astype(int)\n",
    "    df_new['hour_sin'] = np.sin(2 * np.pi * df_new['hour'] / 24)\n",
    "    df_new['hour_cos'] = np.cos(2 * np.pi * df_new['hour'] / 24)\n",
    "    df_new['month_sin'] = np.sin(2 * np.pi * df_new['month'] / 12)\n",
    "    df_new['month_cos'] = np.cos(2 * np.pi * df_new['month'] / 12)\n",
    "    return df_new\n",
    "\n",
    "def create_interaction_features(df):\n",
    "    df_new = df.copy()\n",
    "    interactions = [\n",
    "        ('temperature_outside', 'humidity_outside', 'temp_humid_interact'),\n",
    "        ('solar_radiation', 'temperature_outside', 'solar_temp_interact'),\n",
    "        ('greenhouse_roof_vent1', 'greenhouse_roof_vent2', 'vent_total'),\n",
    "        ('curtain1', 'curtain2', 'curtain_avg'),\n",
    "    ]\n",
    "    for col1, col2, new_name in interactions:\n",
    "        if col1 in df_new.columns and col2 in df_new.columns:\n",
    "            if 'total' in new_name:\n",
    "                df_new[new_name] = df_new[col1] + df_new[col2]\n",
    "            elif 'avg' in new_name:\n",
    "                df_new[new_name] = (df_new[col1] + df_new[col2]) / 2\n",
    "            else:\n",
    "                df_new[new_name] = df_new[col1] * df_new[col2]\n",
    "    return df_new"
   ]
  },
  {
   "cell_type": "code",
   "execution_count": 19,
   "id": "88c6a541",
   "metadata": {},
   "outputs": [],
   "source": [
    "# 테스트 데이터 피쳐 엔지니어링\n",
    "test_clean = clean_data(test_X)\n",
    "test_proc = create_time_features(test_clean)\n",
    "test_proc = create_interaction_features(test_proc)"
   ]
  },
  {
   "cell_type": "code",
   "execution_count": 20,
   "id": "7c682ca4",
   "metadata": {},
   "outputs": [],
   "source": [
    "# 학습에서 사용한 feature 컬럼 정의 (train_pipeline과 동일하게 맞춰야 함)\n",
    "feature_cols = [col for col in test_proc.columns if col not in ['time']]"
   ]
  },
  {
   "cell_type": "code",
   "execution_count": 21,
   "id": "cfc8d206",
   "metadata": {},
   "outputs": [],
   "source": [
    "# 저장된 모델 불러와서 예측 수행 (각 타겟별 5개 모델 앙상블 평균)\n",
    "targets = ['temperature', 'humidity', 'co2']\n",
    "preds = {target: np.zeros(len(test_proc)) for target in targets}\n",
    "for target in targets:\n",
    "    fold_preds = []\n",
    "    for fold in range(5):\n",
    "        model = joblib.load(f'model-{target}-{fold}.pkl')\n",
    "        fold_pred = model.predict(test_proc[feature_cols])\n",
    "        fold_preds.append(fold_pred)\n",
    "    preds[target] = np.mean(fold_preds, axis=0)"
   ]
  },
  {
   "cell_type": "code",
   "execution_count": 22,
   "id": "5d473bd4",
   "metadata": {},
   "outputs": [
    {
     "name": "stderr",
     "output_type": "stream",
     "text": [
      "/var/folders/66/5s9xg91x36d70dj68vy37x340000gn/T/ipykernel_21704/3019156117.py:4: FutureWarning: The behavior of 'isin' with dtype=datetime64[ns] and castable values (e.g. strings) is deprecated. In a future version, these will not be considered matching by isin. Explicitly cast to the appropriate dtype before calling isin instead.\n",
      "  idx = test_proc['time'].isin(sample_submission['time'])\n"
     ]
    },
    {
     "data": {
      "text/html": [
       "<div>\n",
       "<style scoped>\n",
       "    .dataframe tbody tr th:only-of-type {\n",
       "        vertical-align: middle;\n",
       "    }\n",
       "\n",
       "    .dataframe tbody tr th {\n",
       "        vertical-align: top;\n",
       "    }\n",
       "\n",
       "    .dataframe thead th {\n",
       "        text-align: right;\n",
       "    }\n",
       "</style>\n",
       "<table border=\"1\" class=\"dataframe\">\n",
       "  <thead>\n",
       "    <tr style=\"text-align: right;\">\n",
       "      <th></th>\n",
       "      <th>time</th>\n",
       "      <th>temperature</th>\n",
       "      <th>humidity</th>\n",
       "      <th>co2</th>\n",
       "    </tr>\n",
       "  </thead>\n",
       "  <tbody>\n",
       "    <tr>\n",
       "      <th>0</th>\n",
       "      <td>2024-06-25 00:00:00</td>\n",
       "      <td>16.775021</td>\n",
       "      <td>85.792130</td>\n",
       "      <td>362.912170</td>\n",
       "    </tr>\n",
       "    <tr>\n",
       "      <th>1</th>\n",
       "      <td>2024-06-25 00:05:00</td>\n",
       "      <td>16.822609</td>\n",
       "      <td>86.507500</td>\n",
       "      <td>363.626373</td>\n",
       "    </tr>\n",
       "    <tr>\n",
       "      <th>2</th>\n",
       "      <td>2024-06-25 00:10:00</td>\n",
       "      <td>16.806879</td>\n",
       "      <td>86.042519</td>\n",
       "      <td>363.899750</td>\n",
       "    </tr>\n",
       "    <tr>\n",
       "      <th>3</th>\n",
       "      <td>2024-06-25 00:15:00</td>\n",
       "      <td>16.768024</td>\n",
       "      <td>86.602615</td>\n",
       "      <td>363.899750</td>\n",
       "    </tr>\n",
       "    <tr>\n",
       "      <th>4</th>\n",
       "      <td>2024-06-25 00:20:00</td>\n",
       "      <td>16.728352</td>\n",
       "      <td>86.164696</td>\n",
       "      <td>363.899750</td>\n",
       "    </tr>\n",
       "  </tbody>\n",
       "</table>\n",
       "</div>"
      ],
      "text/plain": [
       "                  time  temperature   humidity         co2\n",
       "0  2024-06-25 00:00:00    16.775021  85.792130  362.912170\n",
       "1  2024-06-25 00:05:00    16.822609  86.507500  363.626373\n",
       "2  2024-06-25 00:10:00    16.806879  86.042519  363.899750\n",
       "3  2024-06-25 00:15:00    16.768024  86.602615  363.899750\n",
       "4  2024-06-25 00:20:00    16.728352  86.164696  363.899750"
      ]
     },
     "execution_count": 22,
     "metadata": {},
     "output_type": "execute_result"
    }
   ],
   "source": [
    "# sample_submission 파일에 예측값 입력 및 저장\n",
    "for target in targets:\n",
    "    # sample_submission의 time에 맞는 인덱스만 추출\n",
    "    idx = test_proc['time'].isin(sample_submission['time'])\n",
    "    sample_submission[target] = preds[target][idx]\n",
    "sample_submission.to_csv('submission.csv', index=False)\n",
    "sample_submission.head()"
   ]
  }
 ],
 "metadata": {
  "kernelspec": {
   "display_name": "tf-env",
   "language": "python",
   "name": "python3"
  },
  "language_info": {
   "codemirror_mode": {
    "name": "ipython",
    "version": 3
   },
   "file_extension": ".py",
   "mimetype": "text/x-python",
   "name": "python",
   "nbconvert_exporter": "python",
   "pygments_lexer": "ipython3",
   "version": "3.10.16"
  }
 },
 "nbformat": 4,
 "nbformat_minor": 5
}
